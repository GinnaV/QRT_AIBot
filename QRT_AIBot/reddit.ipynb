{
 "cells": [
  {
   "cell_type": "code",
   "execution_count": 5,
   "metadata": {},
   "outputs": [],
   "source": [
    "import praw\n",
    "from dotenv import load_dotenv\n",
    "import os"
   ]
  },
  {
   "cell_type": "code",
   "execution_count": 6,
   "metadata": {},
   "outputs": [],
   "source": [
    "load_dotenv()\n",
    "client_id = os.getenv(\"CLIENT_ID\")\n",
    "client_secret = os.getenv(\"CLIENT_SECRET\")\n",
    "reddit = praw.Reddit(\n",
    "    client_id=client_id,        \n",
    "    client_secret=client_secret, \n",
    "    user_agent='HTB' \n",
    ")"
   ]
  },
  {
   "cell_type": "code",
   "execution_count": 7,
   "metadata": {},
   "outputs": [],
   "source": [
    "def get_posts_and_comments(subreddit_name, keywords, limit=50, top_comments_count=10):\n",
    "    subreddit = reddit.subreddit(subreddit_name)\n",
    "    new_posts = subreddit.new(limit=limit)\n",
    "    matching_posts = []\n",
    "    \n",
    "    for post in new_posts:\n",
    "        if any(keyword.lower() in post.title.lower() for keyword in keywords):\n",
    "            post.comments.replace_more(limit=0)  # Remove \"MoreComments\" objects\n",
    "            top_comments = post.comments.list()[:top_comments_count]\n",
    "\n",
    "            # will return posts with more than 2 upvotes\n",
    "            if post.score > 2:\n",
    "                matching_posts.append({\n",
    "                    \"title\": post.title,\n",
    "                    #\"url\": post.url,\n",
    "                    #\"score\": post.score,\n",
    "                    \"selftext\": post.selftext,\n",
    "                    \"top_comments\": [\n",
    "                        {\"comment\": comment.body,\n",
    "                         # will return comments with more than 5 upvotes\n",
    "                        \"score\": comment.score} for comment in top_comments if comment.score > 5\n",
    "                    ]\n",
    "                })\n",
    "    return matching_posts"
   ]
  },
  {
   "cell_type": "code",
   "execution_count": 8,
   "metadata": {},
   "outputs": [
    {
     "data": {
      "text/plain": [
       "[{'title': 'Physical Attacks Against Bitcoin Holders Surge As BTC Price Rises',\n",
       "  'selftext': '',\n",
       "  'top_comments': [{'comment': 'What price rise?', 'score': 51},\n",
       "   {'comment': 'This is why having a low profile is key.', 'score': 16},\n",
       "   {'comment': 'I feel about 20% safer compared to last month', 'score': 11},\n",
       "   {'comment': 'Its the ETH maxis!!!! /s', 'score': 10},\n",
       "   {'comment': 'Classic pump and dump article \\n\\nAnyone following bitcoin knows its been shit for the past month',\n",
       "    'score': 6}]},\n",
       " {'title': 'Tether CEO: “One day USDT will be useless. The world will only use Bitcoin.”',\n",
       "  'selftext': '',\n",
       "  'top_comments': [{'comment': 'I quickly checked the peg of USDT.',\n",
       "    'score': 185},\n",
       "   {'comment': 'Yes tell my dad who can barely figure out online banking to use Bitcoin instead.',\n",
       "    'score': 198},\n",
       "   {'comment': 'I can’t wait to pay a $10-1000 fee for every single transaction I make!!',\n",
       "    'score': 42},\n",
       "   {'comment': \"One day USDT will be useless because someone will find out what it's backed by and what it's not\",\n",
       "    'score': 109},\n",
       "   {'comment': 'No no no yall dont get it the dollar itself woill be worthless so the pinning system basically makes the coin useless.',\n",
       "    'score': 9},\n",
       "   {'comment': \"I don't believe that he believes that even a little.\",\n",
       "    'score': 37},\n",
       "   {'comment': '\"But for now I\\'m making BANK LMAO\"', 'score': 9},\n",
       "   {'comment': 'too much fees for BTC', 'score': 24},\n",
       "   {'comment': 'I can tell you right now that if the world uses Bitcoin, nobody will be able to transact with it for years. People really have no idea how bad transaction times would become.',\n",
       "    'score': 34},\n",
       "   {'comment': \"Bitcoin is useless for transactions. A global maximum of 6 transactions per second is so bad it's not even a joke.\\n\\nCrypto might become a real thing, don't get me wrong. But Bitcoin in its current form? Ridiculous. It's the beanie baby of crypto.\",\n",
       "    'score': 23}]},\n",
       " {'title': '‘This Is A Big Deal’—Bitcoin Price Braces For A $150 Billion BlackRock Game-Changer',\n",
       "  'selftext': '',\n",
       "  'top_comments': [{'comment': 'The difference between 1% and 2% inclusion is 100% (double)!',\n",
       "    'score': 51},\n",
       "   {'comment': 'I feel like Forbes has a new version of this story every week',\n",
       "    'score': 30},\n",
       "   {'comment': 'Did Blackrock make the price go down so that they can improve their buy in price.',\n",
       "    'score': 239},\n",
       "   {'comment': '\"described as a “big deal” by one analyst\"', 'score': 25},\n",
       "   {'comment': \"tldr; BlackRock, the world's largest asset manager, has added bitcoin to its $150 billion model-portfolio ecosystem for the first time, allocating 1%-2% to the IBIT iShares Bitcoin Trust ETF. This move is seen as a significant step in mainstream adoption of bitcoin, with analysts calling it a 'big deal.' BlackRock's efforts to launch a spot bitcoin ETF have contributed to U.S. spot bitcoin ETFs surpassing $100 billion in net assets. This development, alongside growing institutional demand and regulatory clarity, could drive bitcoin's price higher.\\n\\n*This summary is auto generated by a bot and not meant to replace reading the original article. As always, DYOR.\",\n",
       "    'score': 36},\n",
       "   {'comment': 'Again....', 'score': 7},\n",
       "   {'comment': 'This is how I know the dump is not done', 'score': 6}]},\n",
       " {'title': \"Silicon Valley's First Bitcoin-Only Coworking Space Opens in San Francisco\",\n",
       "  'selftext': '',\n",
       "  'top_comments': [{'comment': \"Ahhh a 'safe space' for BTC. Just what it needed...\",\n",
       "    'score': 47},\n",
       "   {'comment': 'God these nerds are so fucking lame.', 'score': 31},\n",
       "   {'comment': 'That place is going to be one big circlejerk', 'score': 14},\n",
       "   {'comment': 'Super secure free WiFi', 'score': 10},\n",
       "   {'comment': \"Colab spaces are nice. There's networking, cross-pollination of ideas, change of scenery. \\n\\nColabs which dictate what you have to work on sounds like less fun. If you want an echo chamber, might as well just stay at home and browse social media.\",\n",
       "    'score': 9},\n",
       "   {'comment': 'Welp I know my next lick 🤣', 'score': 7}]},\n",
       " {'title': 'Bitcoin Dip-Buyers Step in Friday, but What Might Weekend Action Bring?',\n",
       "  'selftext': '',\n",
       "  'top_comments': []}]"
      ]
     },
     "execution_count": 8,
     "metadata": {},
     "output_type": "execute_result"
    }
   ],
   "source": [
    "# Search through (subreddits, [names of crypto])\n",
    "top_posts = get_posts_and_comments(\"CryptoCurrency\", [\"Bitcoin\"])\n",
    "top_posts"
   ]
  }
 ],
 "metadata": {
  "language_info": {
   "name": "python"
  }
 },
 "nbformat": 4,
 "nbformat_minor": 2
}
