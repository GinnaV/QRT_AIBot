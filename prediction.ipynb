{
 "cells": [
  {
   "cell_type": "code",
   "execution_count": 18,
   "metadata": {},
   "outputs": [],
   "source": [
    "import pandas as pd\n",
    "import matplotlib.pyplot as plt\n",
    "from statsmodels.tsa.holtwinters import Holt\n",
    "import random\n",
    "import numpy as np\n",
    "import torch\n",
    "import torch.nn as nn\n",
    "import torch.optim as optim\n",
    "import torch.utils.data as data\n",
    "from sklearn.preprocessing import MinMaxScaler"
   ]
  },
  {
   "cell_type": "code",
   "execution_count": 19,
   "metadata": {},
   "outputs": [
    {
     "name": "stdout",
     "output_type": "stream",
     "text": [
      "<class 'pandas.core.frame.DataFrame'>\n",
      "RangeIndex: 4324 entries, 0 to 4323\n",
      "Data columns (total 4 columns):\n",
      " #   Column        Non-Null Count  Dtype  \n",
      "---  ------        --------------  -----  \n",
      " 0   snapped_at    4324 non-null   object \n",
      " 1   price         4324 non-null   float64\n",
      " 2   market_cap    4323 non-null   float64\n",
      " 3   total_volume  4324 non-null   float64\n",
      "dtypes: float64(3), object(1)\n",
      "memory usage: 135.3+ KB\n"
     ]
    }
   ],
   "source": [
    "df = pd.read_csv(\"data/btc-usd-max.csv\")\n",
    "df.head(5)\n",
    "df.info()\n",
    "#data.loc[data['total_volume'] > 0.0]"
   ]
  },
  {
   "cell_type": "code",
   "execution_count": 20,
   "metadata": {},
   "outputs": [
    {
     "data": {
      "text/plain": [
       "('2013-04-28 00:00:00 UTC', '2025-03-01 00:00:00 UTC')"
      ]
     },
     "execution_count": 20,
     "metadata": {},
     "output_type": "execute_result"
    }
   ],
   "source": [
    "date_range = (df['snapped_at'].min(), df['snapped_at'].max())\n",
    "date_range"
   ]
  },
  {
   "cell_type": "code",
   "execution_count": 21,
   "metadata": {},
   "outputs": [
    {
     "data": {
      "text/html": [
       "<div>\n",
       "<style scoped>\n",
       "    .dataframe tbody tr th:only-of-type {\n",
       "        vertical-align: middle;\n",
       "    }\n",
       "\n",
       "    .dataframe tbody tr th {\n",
       "        vertical-align: top;\n",
       "    }\n",
       "\n",
       "    .dataframe thead th {\n",
       "        text-align: right;\n",
       "    }\n",
       "</style>\n",
       "<table border=\"1\" class=\"dataframe\">\n",
       "  <thead>\n",
       "    <tr style=\"text-align: right;\">\n",
       "      <th></th>\n",
       "      <th>price</th>\n",
       "      <th>market_cap</th>\n",
       "      <th>total_volume</th>\n",
       "    </tr>\n",
       "    <tr>\n",
       "      <th>snapped_at</th>\n",
       "      <th></th>\n",
       "      <th></th>\n",
       "      <th></th>\n",
       "    </tr>\n",
       "  </thead>\n",
       "  <tbody>\n",
       "    <tr>\n",
       "      <th>2013-04-28</th>\n",
       "      <td>135.300000</td>\n",
       "      <td>1.500518e+09</td>\n",
       "      <td>0.000000e+00</td>\n",
       "    </tr>\n",
       "    <tr>\n",
       "      <th>2013-04-29</th>\n",
       "      <td>141.960000</td>\n",
       "      <td>1.575032e+09</td>\n",
       "      <td>0.000000e+00</td>\n",
       "    </tr>\n",
       "    <tr>\n",
       "      <th>2013-04-30</th>\n",
       "      <td>135.300000</td>\n",
       "      <td>1.501657e+09</td>\n",
       "      <td>0.000000e+00</td>\n",
       "    </tr>\n",
       "    <tr>\n",
       "      <th>2013-05-01</th>\n",
       "      <td>117.000000</td>\n",
       "      <td>1.298952e+09</td>\n",
       "      <td>0.000000e+00</td>\n",
       "    </tr>\n",
       "    <tr>\n",
       "      <th>2013-05-02</th>\n",
       "      <td>103.430000</td>\n",
       "      <td>1.148668e+09</td>\n",
       "      <td>0.000000e+00</td>\n",
       "    </tr>\n",
       "    <tr>\n",
       "      <th>...</th>\n",
       "      <td>...</td>\n",
       "      <td>...</td>\n",
       "      <td>...</td>\n",
       "    </tr>\n",
       "    <tr>\n",
       "      <th>2025-02-25</th>\n",
       "      <td>91396.766869</td>\n",
       "      <td>1.814177e+12</td>\n",
       "      <td>4.553970e+10</td>\n",
       "    </tr>\n",
       "    <tr>\n",
       "      <th>2025-02-26</th>\n",
       "      <td>88755.769336</td>\n",
       "      <td>1.759750e+12</td>\n",
       "      <td>9.674245e+10</td>\n",
       "    </tr>\n",
       "    <tr>\n",
       "      <th>2025-02-27</th>\n",
       "      <td>83900.114965</td>\n",
       "      <td>1.664315e+12</td>\n",
       "      <td>6.927743e+10</td>\n",
       "    </tr>\n",
       "    <tr>\n",
       "      <th>2025-02-28</th>\n",
       "      <td>84709.144778</td>\n",
       "      <td>1.679555e+12</td>\n",
       "      <td>3.051904e+11</td>\n",
       "    </tr>\n",
       "    <tr>\n",
       "      <th>2025-03-01</th>\n",
       "      <td>84441.901224</td>\n",
       "      <td>1.674754e+12</td>\n",
       "      <td>8.069524e+10</td>\n",
       "    </tr>\n",
       "  </tbody>\n",
       "</table>\n",
       "<p>4324 rows × 3 columns</p>\n",
       "</div>"
      ],
      "text/plain": [
       "                   price    market_cap  total_volume\n",
       "snapped_at                                          \n",
       "2013-04-28    135.300000  1.500518e+09  0.000000e+00\n",
       "2013-04-29    141.960000  1.575032e+09  0.000000e+00\n",
       "2013-04-30    135.300000  1.501657e+09  0.000000e+00\n",
       "2013-05-01    117.000000  1.298952e+09  0.000000e+00\n",
       "2013-05-02    103.430000  1.148668e+09  0.000000e+00\n",
       "...                  ...           ...           ...\n",
       "2025-02-25  91396.766869  1.814177e+12  4.553970e+10\n",
       "2025-02-26  88755.769336  1.759750e+12  9.674245e+10\n",
       "2025-02-27  83900.114965  1.664315e+12  6.927743e+10\n",
       "2025-02-28  84709.144778  1.679555e+12  3.051904e+11\n",
       "2025-03-01  84441.901224  1.674754e+12  8.069524e+10\n",
       "\n",
       "[4324 rows x 3 columns]"
      ]
     },
     "execution_count": 21,
     "metadata": {},
     "output_type": "execute_result"
    }
   ],
   "source": [
    "df['snapped_at'] = pd.to_datetime(df['snapped_at']).dt.strftime('%Y-%m-%d')\n",
    "df.set_index('snapped_at', inplace = True)\n",
    "df.sort_index(inplace = True)\n",
    "df"
   ]
  },
  {
   "cell_type": "code",
   "execution_count": 22,
   "metadata": {},
   "outputs": [],
   "source": [
    "# Predicting only on data from 2023 onwards due to volatility\n",
    "df.index = pd.to_datetime(df.index)\n",
    "filtered = df[df.index >= pd.to_datetime(\"2023-01-01\")]"
   ]
  },
  {
   "cell_type": "code",
   "execution_count": 23,
   "metadata": {},
   "outputs": [
    {
     "name": "stderr",
     "output_type": "stream",
     "text": [
      "/Users/audri/miniconda3/envs/htb/lib/python3.12/site-packages/statsmodels/tsa/base/tsa_model.py:473: ValueWarning: No frequency information was provided, so inferred frequency D will be used.\n",
      "  self._init_dates(dates, freq)\n",
      "/Users/audri/miniconda3/envs/htb/lib/python3.12/site-packages/statsmodels/tsa/holtwinters/model.py:918: ConvergenceWarning: Optimization failed to converge. Check mle_retvals.\n",
      "  warnings.warn(\n"
     ]
    },
    {
     "data": {
      "image/png": "[encoded data removed]",
      "text/plain": [
       "<Figure size 640x480 with 1 Axes>"
      ]
     },
     "metadata": {},
     "output_type": "display_data"
    }
   ],
   "source": [
    "fit = Holt(filtered['price'], exponential=True).fit()  #exponential trend\n",
    "plt.plot(fit.fittedvalues, color='r', markersize=4, markeredgewidth=1, label='Exponential Trend Fit')\n",
    "plt.xticks(rotation=\"vertical\")\n",
    "plt.tight_layout()\n",
    "plt.show()"
   ]
  },
  {
   "cell_type": "code",
   "execution_count": 24,
   "metadata": {},
   "outputs": [
    {
     "name": "stdout",
     "output_type": "stream",
     "text": [
      "[[0.0000000e+00 0.0000000e+00 3.8087234e-02]\n",
      " [8.3974004e-04 8.7171793e-04 3.0823128e-02]\n",
      " [1.4909208e-03 1.7999411e-03 4.1403051e-02]\n",
      " ...\n",
      " [7.5143093e-01 7.5520265e-01 2.2597072e-01]\n",
      " [7.6045609e-01 7.6375341e-01 1.0000001e+00]\n",
      " [7.5747478e-01 7.6105976e-01 2.6343247e-01]]\n"
     ]
    }
   ],
   "source": [
    "# We will use 'price' as the target for prediction, and the other features as input\n",
    "timeseries = filtered[['price', 'market_cap', 'total_volume']].values.astype('float32')\n",
    "\n",
    "scaler = MinMaxScaler(feature_range=(0, 1))\n",
    "timeseries_scaled = scaler.fit_transform(timeseries)\n",
    "print(timeseries_scaled)\n",
    "\n",
    "# train-test split for time series\n",
    "train_size = int(len(timeseries_scaled) * 0.7)\n",
    "test_size = len(timeseries_scaled) - train_size\n",
    "train, test = timeseries_scaled[:train_size], timeseries_scaled[train_size:]\n"
   ]
  },
  {
   "cell_type": "code",
   "execution_count": 25,
   "metadata": {},
   "outputs": [],
   "source": [
    "# LSTM adapted from https://machinelearningmastery.com/lstm-for-time-series-prediction-in-pytorch/\n",
    "def create_dataset(dataset, lookback):\n",
    "    \"\"\"Transform a time series into a prediction dataset\"\"\"\n",
    "    X, y = [], []\n",
    "    for i in range(len(dataset)-lookback):\n",
    "        feature = dataset[i:i+lookback, :] \n",
    "        target = dataset[i+lookback, 0] \n",
    "        X.append(feature)\n",
    "        y.append(target)\n",
    "    return torch.tensor(X), torch.tensor(y)"
   ]
  },
  {
   "cell_type": "code",
   "execution_count": 26,
   "metadata": {},
   "outputs": [],
   "source": [
    "# lstm model\n",
    "class Model(nn.Module):\n",
    "    def __init__(self, hidden_size, num_layers):\n",
    "        super().__init__()\n",
    "        self.lstm = nn.LSTM(input_size=3, hidden_size=hidden_size, num_layers=num_layers, batch_first=True)\n",
    "        self.linear = nn.Linear(hidden_size, 1)\n",
    "\n",
    "    def forward(self, x):\n",
    "        x, _ = self.lstm(x)\n",
    "        x = self.linear(x[:, -1, :])  # keep only last output\n",
    "        return x"
   ]
  },
  {
   "cell_type": "code",
   "execution_count": 27,
   "metadata": {},
   "outputs": [],
   "source": [
    "def train_and_evaluate(hidden_size, lr, lookback, num_layers, batch_size, train, test):\n",
    "    \n",
    "    X_train, y_train = create_dataset(train, lookback)\n",
    "    X_test, y_test = create_dataset(test, lookback)\n",
    "\n",
    "    loader = data.DataLoader(data.TensorDataset(X_train, y_train), shuffle=False, batch_size=batch_size)\n",
    "\n",
    "    model = Model(hidden_size=hidden_size, num_layers=num_layers)\n",
    "    optimizer = optim.Adam(model.parameters(), lr=lr)\n",
    "    loss_fn = nn.MSELoss()\n",
    "\n",
    "    n_epochs = 1000\n",
    "    for epoch in range(n_epochs):\n",
    "        model.train()\n",
    "        for X_batch, y_batch in loader:\n",
    "            y_pred = model(X_batch)\n",
    "            loss = loss_fn(y_pred, y_batch.unsqueeze(1))\n",
    "            optimizer.zero_grad()\n",
    "            loss.backward()\n",
    "            optimizer.step()\n",
    "\n",
    "    model.eval()\n",
    "    with torch.no_grad():\n",
    "        y_train_pred = model(X_train)\n",
    "        train_rmse = np.sqrt(loss_fn(y_train_pred, y_train).item())\n",
    "        y_test_pred = model(X_test)\n",
    "        test_rmse = np.sqrt(loss_fn(y_test, y_test_pred))\n",
    "\n",
    "    return model, test_rmse, train_rmse"
   ]
  },
  {
   "cell_type": "code",
   "execution_count": null,
   "metadata": {},
   "outputs": [],
   "source": [
    "# Performs random hyperparam search\n",
    "param_space = {\n",
    "    'hidden_size': [20, 50, 100, 150],\n",
    "    'lr': [0.0001, 0.0005, 0.001], \n",
    "    'lookback': [5, 10, 15, 20],   \n",
    "    'num_layers': [1, 2],         \n",
    "    'batch_size': [8, 16, 32]     \n",
    "}\n",
    "\n",
    "best_rmse = float('inf')\n",
    "best_params = {}\n",
    "\n",
    "for i in range(10):\n",
    "    hidden_size = random.choice(param_space['hidden_size'])\n",
    "    lr = random.choice(param_space['lr'])\n",
    "    lookback = random.choice(param_space['lookback'])\n",
    "    num_layers = random.choice(param_space['num_layers'])\n",
    "    batch_size = random.choice(param_space['batch_size'])\n",
    "    \n",
    "    print(f\"Trying hidden_size={hidden_size}, lr={lr}, lookback={lookback}, num_layers={num_layers}, batch_size={batch_size}\")\n",
    "    \n",
    "    test_rmse, _ = train_and_evaluate(hidden_size, lr, lookback, num_layers, batch_size, train, test)\n",
    "    \n",
    "    print(f\"Test RMSE: {test_rmse}\")\n",
    "    \n",
    "    if test_rmse < best_rmse:\n",
    "        best_rmse = test_rmse\n",
    "        best_params = {\n",
    "            'hidden_size': hidden_size,\n",
    "            'lr': lr,\n",
    "            'lookback': lookback,\n",
    "            'num_layers': num_layers,\n",
    "            'batch_size': batch_size\n",
    "        }\n",
    "\n",
    "print(f\"Best Hyperparameters: {best_params}\")\n",
    "print(f\"Best Test RMSE: {best_rmse}\")\n",
    "\n",
    "\"\"\"\n",
    "Best Hyperparameters: {'hidden_size': 100, 'lr': 0.001, 'lookback': 5, 'num_layers': 2, 'batch_size': 8}\n",
    "Best Test RMSE: 0.381110817193985\n",
    "\"\"\""
   ]
  },
  {
   "cell_type": "code",
   "execution_count": 28,
   "metadata": {},
   "outputs": [
    {
     "name": "stdout",
     "output_type": "stream",
     "text": [
      "Train RMSE: 0.2588283293101768\n",
      " Test RMSE: 0.23798871040344238\n"
     ]
    },
    {
     "name": "stderr",
     "output_type": "stream",
     "text": [
      "/Users/audri/miniconda3/envs/htb/lib/python3.12/site-packages/torch/nn/modules/loss.py:610: UserWarning: Using a target size (torch.Size([548])) that is different to the input size (torch.Size([548, 1])). This will likely lead to incorrect results due to broadcasting. Please ensure they have the same size.\n",
      "  return F.mse_loss(input, target, reduction=self.reduction)\n",
      "/Users/audri/miniconda3/envs/htb/lib/python3.12/site-packages/torch/nn/modules/loss.py:610: UserWarning: Using a target size (torch.Size([233, 1])) that is different to the input size (torch.Size([233])). This will likely lead to incorrect results due to broadcasting. Please ensure they have the same size.\n",
      "  return F.mse_loss(input, target, reduction=self.reduction)\n",
      "/var/folders/zv/7g7rc4t52kx4pgdxw2c9g6740000gn/T/ipykernel_49911/3924747065.py:27: DeprecationWarning: __array_wrap__ must accept context and return_scalar arguments (positionally) in the future. (Deprecated NumPy 2.0)\n",
      "  test_rmse = np.sqrt(loss_fn(y_test, y_test_pred))\n"
     ]
    }
   ],
   "source": [
    "# Now we run based on best hyperparams\n",
    "model, test_rmse, train_rmse = train_and_evaluate(100, 0.001, 5, 2, 8, train, test)\n",
    "print(f\"Train RMSE: {train_rmse}\\n Test RMSE: {test_rmse}\")"
   ]
  },
  {
   "cell_type": "code",
   "execution_count": 29,
   "metadata": {},
   "outputs": [],
   "source": [
    "def predict_future(model, scaler, train_data, lookback, num_steps):\n",
    "    \"\"\"\n",
    "    Predict prices for the next num_steps number of days\n",
    "    \"\"\"\n",
    "    # Scale data again?\n",
    "    train_scaled = scaler.transform(train_data)\n",
    "    last_train_input = torch.tensor([train_scaled[-lookback:]], dtype=torch.float32)\n",
    "    \n",
    "    model.eval()\n",
    "    predictions = []\n",
    "\n",
    "    # Predict for next num_steps number of days\n",
    "    for _ in range(num_steps):\n",
    "        with torch.no_grad():\n",
    "            y_pred = model(last_train_input)\n",
    "            predictions.append(y_pred.item())\n",
    "            \n",
    "            #Remove first timestep and pass onto the next day\n",
    "            new_input = last_train_input[0, 1:, :].unsqueeze(0)\n",
    "            new_input = torch.cat((new_input, torch.tensor([[[y_pred.item(), 0.0, 0.0]]], dtype=torch.float32)), dim=1)\n",
    "            last_train_input = new_input\n",
    "    \n",
    "    # These will be in scaled form and need to be inversed to be interpretable\n",
    "    return predictions"
   ]
  },
  {
   "cell_type": "code",
   "execution_count": 30,
   "metadata": {},
   "outputs": [],
   "source": [
    "# Making predictions for next 5 days\n",
    "num_steps = 5\n",
    "future_predictions = predict_future(model, scaler, train, lookback=10, num_steps=num_steps)"
   ]
  },
  {
   "cell_type": "code",
   "execution_count": 31,
   "metadata": {},
   "outputs": [
    {
     "name": "stdout",
     "output_type": "stream",
     "text": [
      "Future predictions for the next 5 days: [ 4874.82830008 19435.88716618 16062.33491404 15979.38403227\n",
      " 25758.68522049]\n"
     ]
    }
   ],
   "source": [
    "# Returning predictions to interpretable values\n",
    "predictions_scaled = np.array(future_predictions).reshape(-1, 1)\n",
    "predictions_original = scaler.inverse_transform(np.hstack([predictions_scaled, np.zeros((predictions_scaled.shape[0], 2))]))[:,0]\n",
    "print(f\"Future predictions for the next {num_steps} days: {predictions_original}\")"
   ]
  },
  {
   "cell_type": "code",
   "execution_count": 33,
   "metadata": {},
   "outputs": [
    {
     "data": {
      "text/plain": [
       "snapped_at\n",
       "2025-02-25    91396.766869\n",
       "2025-02-26    88755.769336\n",
       "2025-02-27    83900.114965\n",
       "2025-02-28    84709.144778\n",
       "2025-03-01    84441.901224\n",
       "Name: price, dtype: float64"
      ]
     },
     "execution_count": 33,
     "metadata": {},
     "output_type": "execute_result"
    }
   ],
   "source": [
    "filtered['price'].tail(5)"
   ]
  }
 ],
 "metadata": {
  "kernelspec": {
   "display_name": "htb",
   "language": "python",
   "name": "python3"
  },
  "language_info": {
   "codemirror_mode": {
    "name": "ipython",
    "version": 3
   },
   "file_extension": ".py",
   "mimetype": "text/x-python",
   "name": "python",
   "nbconvert_exporter": "python",
   "pygments_lexer": "ipython3",
   "version": "3.12.9"
  }
 },
 "nbformat": 4,
 "nbformat_minor": 2
}
